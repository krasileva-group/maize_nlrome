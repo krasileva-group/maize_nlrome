{
 "cells": [
  {
   "cell_type": "code",
   "execution_count": 1,
   "id": "8050a89b",
   "metadata": {},
   "outputs": [],
   "source": [
    "import os \n",
    "import pandas as pd\n",
    "import time \n",
    "import sys\n",
    "import glob\n",
    "pd.options.mode.chained_assignment = None  # default='warn'\n"
   ]
  },
  {
   "cell_type": "markdown",
   "id": "9de61203",
   "metadata": {},
   "source": [
    "Goal: check which rna files actually got downloaded "
   ]
  },
  {
   "cell_type": "code",
   "execution_count": 2,
   "id": "37120560",
   "metadata": {},
   "outputs": [],
   "source": [
    "rna_info=pd.read_csv('/global/home/users/chandlersutherland/e16/rna_metadata.csv', index_col=0)"
   ]
  },
  {
   "cell_type": "code",
   "execution_count": 3,
   "id": "1eda9683",
   "metadata": {},
   "outputs": [
    {
     "name": "stdout",
     "output_type": "stream",
     "text": [
      "B97 0\n",
      "[]\n"
     ]
    },
    {
     "data": {
      "text/html": [
       "<div>\n",
       "<style scoped>\n",
       "    .dataframe tbody tr th:only-of-type {\n",
       "        vertical-align: middle;\n",
       "    }\n",
       "\n",
       "    .dataframe tbody tr th {\n",
       "        vertical-align: top;\n",
       "    }\n",
       "\n",
       "    .dataframe thead th {\n",
       "        text-align: right;\n",
       "    }\n",
       "</style>\n",
       "<table border=\"1\" class=\"dataframe\">\n",
       "  <thead>\n",
       "    <tr style=\"text-align: right;\">\n",
       "      <th></th>\n",
       "      <th>study_accession</th>\n",
       "      <th>sample_accession</th>\n",
       "      <th>experiment_accession</th>\n",
       "      <th>run_accession</th>\n",
       "      <th>tax_id</th>\n",
       "      <th>scientific_name</th>\n",
       "      <th>fastq_ftp</th>\n",
       "      <th>submitted_ftp</th>\n",
       "      <th>sra_ftp</th>\n",
       "      <th>Sample</th>\n",
       "      <th>tissue</th>\n",
       "      <th>fastq_path</th>\n",
       "      <th>value</th>\n",
       "    </tr>\n",
       "  </thead>\n",
       "  <tbody>\n",
       "  </tbody>\n",
       "</table>\n",
       "</div>"
      ],
      "text/plain": [
       "Empty DataFrame\n",
       "Columns: [study_accession, sample_accession, experiment_accession, run_accession, tax_id, scientific_name, fastq_ftp, submitted_ftp, sra_ftp, Sample, tissue, fastq_path, value]\n",
       "Index: []"
      ]
     },
     "execution_count": 3,
     "metadata": {},
     "output_type": "execute_result"
    }
   ],
   "source": [
    "#re-write by sample \n",
    "def count_left_s(sample):\n",
    "    paths=glob.glob(os.path.join('/global/scratch/users/chandlersutherland/e16/'+sample+'/rna_*/STAR/*_ReadsPerGene.out.tab'))\n",
    "    subset=rna_info[rna_info['Sample']==sample]\n",
    "    df=pd.DataFrame(paths)\n",
    "    done=df.iloc[:,0].str.split('/', expand=True)\n",
    "    done=done.iloc[:,9].str.strip('_ReadsPerGene.out.tab')\n",
    "\n",
    "    fastq=subset['fastq_ftp'].str.split(';', expand=True)#.str.strip('.gz')\n",
    "    #fastq.iloc[:,0]\n",
    "    subset['fastq_r1']=fastq.iloc[:,0].str.split('/', expand=True).iloc[:,6].str.strip('.gz')\n",
    "    subset['fastq_r2']=fastq.iloc[:,1].str.split('/', expand=True).iloc[:,6].str.strip('.gz')\n",
    "    subset\n",
    "\n",
    "    subset_long=pd.melt(subset, id_vars=['study_accession', 'sample_accession', 'experiment_accession', 'run_accession', 'tax_id', 'scientific_name', 'fastq_ftp', 'submitted_ftp', 'sra_ftp', 'Sample', 'tissue'], value_vars=['fastq_r1', 'fastq_r2'], var_name='fastq_path')\n",
    "    subset_long\n",
    "    left=subset_long[-subset_long['run_accession'].isin(done)]\n",
    "    left=left.reset_index()[['study_accession', 'sample_accession', 'experiment_accession', 'run_accession', 'tax_id', 'scientific_name', 'fastq_ftp','submitted_ftp', 'sra_ftp', 'Sample', 'tissue', 'fastq_path', 'value']]\n",
    "    to_do=len(left)\n",
    "    print(sample+' '+str(to_do))\n",
    "    print(left['tissue'].unique())\n",
    "    return(left)\n",
    "count_left_s('B97')"
   ]
  },
  {
   "cell_type": "code",
   "execution_count": 4,
   "id": "de73a92c",
   "metadata": {},
   "outputs": [],
   "source": [
    "samples='/global/home/users/chandlersutherland/e16/sample.txt'\n",
    "s_list=[]\n",
    "with open(samples, 'r') as file:\n",
    "    file_contents=file.readlines()\n",
    "    for row in file_contents:\n",
    "        s_list.append(row.strip('\\n'))\n",
    "        "
   ]
  },
  {
   "cell_type": "code",
   "execution_count": 5,
   "id": "1e211921",
   "metadata": {},
   "outputs": [
    {
     "name": "stdout",
     "output_type": "stream",
     "text": [
      "error with sample B73\n",
      "CML103 0\n",
      "[]\n",
      "CML277 0\n",
      "[]\n",
      "CML52 0\n",
      "[]\n",
      "IL14H 0\n",
      "[]\n",
      "KI3 0\n",
      "[]\n",
      "MS71 0\n",
      "[]\n",
      "NC350 0\n",
      "[]\n",
      "OH7B 0\n",
      "[]\n",
      "TZI8 0\n",
      "[]\n",
      "CML228 0\n",
      "[]\n",
      "CML322 0\n",
      "[]\n",
      "CML69 0\n",
      "[]\n",
      "KY21 0\n",
      "[]\n",
      "M162W 0\n",
      "[]\n",
      "MO18W 0\n",
      "[]\n",
      "NC358 0\n",
      "[]\n",
      "P39 0\n",
      "[]\n",
      "B97 0\n",
      "[]\n",
      "CML247 0\n",
      "[]\n",
      "CML333 0\n",
      "[]\n",
      "HP301 0\n",
      "[]\n",
      "KI11 4\n",
      "['tassel']\n",
      "M37W 0\n",
      "[]\n",
      "OH43 0\n",
      "[]\n",
      "TX303 0\n",
      "[]\n"
     ]
    }
   ],
   "source": [
    "for sample in s_list:\n",
    "    try: \n",
    "        count_left_s(sample)\n",
    "    except:\n",
    "        print('error with sample '+sample)\n",
    "        continue"
   ]
  }
 ],
 "metadata": {
  "kernelspec": {
   "display_name": "Python 3.7",
   "language": "python",
   "name": "python3"
  },
  "language_info": {
   "codemirror_mode": {
    "name": "ipython",
    "version": 3
   },
   "file_extension": ".py",
   "mimetype": "text/x-python",
   "name": "python",
   "nbconvert_exporter": "python",
   "pygments_lexer": "ipython3",
   "version": "3.7.4"
  }
 },
 "nbformat": 4,
 "nbformat_minor": 5
}
