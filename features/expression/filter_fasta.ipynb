{
 "cells": [
  {
   "cell_type": "markdown",
   "id": "6a0b4503",
   "metadata": {},
   "source": [
    "Goal: filter the transcript fasta files to just the NLRs to run Polyester without crashing memory \n"
   ]
  },
  {
   "cell_type": "code",
   "execution_count": 1,
   "id": "5e83dca4",
   "metadata": {},
   "outputs": [],
   "source": [
    "import os \n",
    "import pandas as pd\n",
    "import sys\n",
    "import glob\n",
    "import numpy as np \n",
    "import matplotlib.pyplot as plt \n",
    "import matplotlib \n",
    "import seaborn as sns"
   ]
  },
  {
   "cell_type": "code",
   "execution_count": 2,
   "id": "fd649484",
   "metadata": {},
   "outputs": [],
   "source": [
    "#load the Gene table \n",
    "gene_table='/global/home/users/chandlersutherland/e16/Maize_NLRome_GeneTable.txt'\n",
    "gene=pd.read_csv(gene_table,sep = '\\t')"
   ]
  },
  {
   "cell_type": "code",
   "execution_count": 11,
   "id": "6aa5daed",
   "metadata": {},
   "outputs": [],
   "source": [
    "fasta_files=glob.glob('/global/scratch/users/chandlersutherland/e16/*/genome/*canonical.cds.fa')\n",
    "\n",
    "for f in fasta_files:\n",
    "    accession=f.split('/')[6]\n",
    "    nlr_df=gene[gene['Ecotype'] == accession.lower()]\n",
    "    nlr_transcripts=nlr_df.loc[:,'Gene'].str.replace('ZM', 'Zm').str.replace('AB', 'ab').str.replace('EB', 'eb').str.replace('P001', 'T00').unique()\n",
    "    for i in range(len(nlr_transcripts)):\n",
    "        os.system('grep -A 1 '+nlr_transcripts[i]+' '+f+' >> '+f+'.nlrs.fa')"
   ]
  },
  {
   "cell_type": "code",
   "execution_count": 5,
   "id": "3d379e9d",
   "metadata": {},
   "outputs": [],
   "source": [
    "#worked for everything but B73 because of the file EOL convention.. \n",
    "#fixed B73, so re-try with the new 'test' file \n",
    "\n",
    "b73='/global/scratch/users/chandlersutherland/e16/B73/genome/Zm-B73-REFERENCE-NAM-5.0_Zm00001eb.1.canonical.cds.fa'\n",
    "accession=b73.split('/')[6]\n",
    "nlr_df=gene[gene['Ecotype'] == accession.lower()]\n",
    "nlr_transcripts=nlr_df.loc[:,'Gene'].str.replace('ZM', 'Zm').str.replace('AB', 'ab').str.replace('EB', 'eb').str.replace('P001', 'T00').unique()\n",
    "nlr_transcripts\n",
    "\n",
    "for i in range(len(nlr_transcripts)):\n",
    "        os.system('grep -A 1 '+nlr_transcripts[i]+' '+b73+' >> '+b73+'.nlrs.fa')"
   ]
  }
 ],
 "metadata": {
  "kernelspec": {
   "display_name": "Python 3.7",
   "language": "python",
   "name": "python3"
  },
  "language_info": {
   "codemirror_mode": {
    "name": "ipython",
    "version": 3
   },
   "file_extension": ".py",
   "mimetype": "text/x-python",
   "name": "python",
   "nbconvert_exporter": "python",
   "pygments_lexer": "ipython3",
   "version": "3.7.4"
  }
 },
 "nbformat": 4,
 "nbformat_minor": 5
}
